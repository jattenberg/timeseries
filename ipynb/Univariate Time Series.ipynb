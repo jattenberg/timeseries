{
 "cells": [
  {
   "cell_type": "code",
   "execution_count": 1,
   "metadata": {},
   "outputs": [
    {
     "name": "stderr",
     "output_type": "stream",
     "text": [
      "/Users/jattenberg/anaconda2/lib/python2.7/site-packages/statsmodels/compat/pandas.py:56: FutureWarning: The pandas.core.datetools module is deprecated and will be removed in a future version. Please use the pandas.tseries module instead.\n",
      "  from pandas.core import datetools\n"
     ]
    }
   ],
   "source": [
    "%matplotlib inline\n",
    "import pandas as pd\n",
    "import numpy as np\n",
    "import xgboost as xgb\n",
    "\n",
    "from sklearn import linear_model\n",
    "from statsmodels.tsa.arima_model import ARIMA\n",
    "from sklearn import gaussian_process\n",
    "from sklearn.ensemble import RandomForestRegressor\n",
    "from sklearn.neural_network import MLPRegressor\n",
    "\n",
    "from sklearn.base import BaseEstimator, TransformerMixin\n",
    "\n",
    "file_url = \"https://archive.ics.uci.edu/ml/machine-learning-databases/00235/household_power_consumption.zip\"\n",
    "field_types = {\"Date\":\"str\", # Date in format dd/mm/yyyy \n",
    "               \"Time\":\"str\", # time in format hh:mm:ss \n",
    "               \"Global_active_power\":\"float\", # household global minute-averaged active power (in kilowatt) \n",
    "               \"Global_reactive_power\":\"float\", # household global minute-averaged reactive power (in kilowatt) \n",
    "               \"Voltage\":\"float\", # minute-averaged voltage (in volt) \n",
    "               \"Global_intensity\":\"float\", # household global minute-averaged current intensity (in ampere) \n",
    "               \"Sub_metering_1\":\"float\", # energy sub-metering No. 1 (in watt-hour of active energy). It corresponds to the kitchen, containing mainly a dishwasher, an oven and a microwave (hot plates are not electric but gas powered). \n",
    "               \"Sub_metering_2\":\"float\", # energy sub-metering No. 2 (in watt-hour of active energy). It corresponds to the laundry room, containing a washing-machine, a tumble-drier, a refrigerator and a light. \n",
    "               \"Sub_metering_3\":\"float\" # energy sub-metering No. 3 (in watt-hour of active energy). It corresponds to an electric water-heater and an air-conditioner.\n",
    "              }"
   ]
  },
  {
   "cell_type": "code",
   "execution_count": 2,
   "metadata": {
    "collapsed": true
   },
   "outputs": [],
   "source": [
    "power_df = pd.read_csv(file_url, sep=\";\", header=0, parse_dates=[['Date', 'Time']], dtype=field_types, na_values=[\"?\"], index_col=\"Date_Time\")"
   ]
  },
  {
   "cell_type": "code",
   "execution_count": 3,
   "metadata": {},
   "outputs": [
    {
     "data": {
      "text/plain": [
       "<matplotlib.axes._subplots.AxesSubplot at 0x129d91290>"
      ]
     },
     "execution_count": 3,
     "metadata": {},
     "output_type": "execute_result"
    },
    {
     "data": {
      "image/png": "[encoded data removed]",
      "text/plain": [
       "<matplotlib.figure.Figure at 0x1091f53d0>"
      ]
     },
     "metadata": {},
     "output_type": "display_data"
    }
   ],
   "source": [
    "power_df[\"Global_active_power\"].plot()"
   ]
  },
  {
   "cell_type": "code",
   "execution_count": 4,
   "metadata": {
    "collapsed": true
   },
   "outputs": [],
   "source": [
    "def ae(y, yh):\n",
    "    return np.abs(y-yh)\n",
    "def se(y, yh):\n",
    "    return (y-yh)**2.0\n",
    "def pae(y, yh):\n",
    "    return np.abs(y-yh)/y\n",
    "def pse(y, yh):\n",
    "    return ((y-yh)/y)**2.0\n",
    "\n",
    "evaluators = {\n",
    "    \"absolute error\"  : ae,\n",
    "    \"squared error\"   : se,\n",
    "    \"% absolute error\": pae,\n",
    "    \"% squared error\" : pse\n",
    "}\n",
    "\n",
    "def predict(model, training_points, predict_point):\n",
    "    return model.fit(training_points).transform(predict_point)\n",
    "\n",
    "def compile_results(results):\n",
    "    result_df = pd.DataFrame.from_dict(results)\n",
    "    return result_df.mean(axis=0)\n",
    "\n",
    "def evaluate(df, model, train_pct=0.66, predict_column=\"Global_active_power\", iterations=1, print_period=200):\n",
    "    \"\"\"\n",
    "        really simple time series model evaluation\n",
    "        this is slow as heck, moves one point at a time\n",
    "    \"\"\"\n",
    "    train_size = int(len(df)*train_pct)\n",
    "    train = df[predict_column][:train_size].dropna(axis=0)\n",
    "    test = df[predict_column][train_size:].dropna(axis=0)\n",
    "\n",
    "    points = train\n",
    "    evals = []\n",
    "    i = 0\n",
    "    for t in test:\n",
    "        p = predict(model, points, t)        \n",
    "        evals = evals + [dict([(name, fn(t, p)) for name, fn in evaluators.items()])]\n",
    "        points = points + [t]\n",
    "        \n",
    "        if i%print_period == 0:\n",
    "            print compile_results(evals)\n",
    "        \n",
    "        i = i + 1\n",
    "        \n",
    "        if i >= iterations:\n",
    "            break\n",
    "            \n",
    "    return evals"
   ]
  },
  {
   "cell_type": "code",
   "execution_count": 5,
   "metadata": {},
   "outputs": [
    {
     "name": "stdout",
     "output_type": "stream",
     "text": [
      "% absolute error    0.003132\n",
      "% squared error     0.000010\n",
      "absolute error      0.004002\n",
      "squared error       0.000016\n",
      "dtype: float64\n"
     ]
    }
   ],
   "source": [
    "class ARIMAModel(BaseEstimator, TransformerMixin):\n",
    "    def __init__(self, p=5, d=1, q=1, verbosity=0):\n",
    "        self.p = p\n",
    "        self.d = d\n",
    "        self.q = q\n",
    "        self.verbosity = verbosity\n",
    "        self.arima = None\n",
    "        \n",
    "    def fit(self, X, y=None):\n",
    "        self.arima = ARIMA(X, order=(self.p, self.d, self.q))\n",
    "        return self\n",
    "    \n",
    "    def transform(self, X):\n",
    "        return self.arima.fit(disp=self.verbosity).forecast()[0][0]\n",
    "    \n",
    "arima_metrics = evaluate(power_df, ARIMAModel(p=5,d=1,q=0,verbosity=1))"
   ]
  },
  {
   "cell_type": "code",
   "execution_count": 6,
   "metadata": {},
   "outputs": [
    {
     "name": "stderr",
     "output_type": "stream",
     "text": [
      "/Users/jattenberg/anaconda2/lib/python2.7/site-packages/scipy/linalg/basic.py:1226: RuntimeWarning: internal gelsd driver lwork query error, required iwork dimension not returned. This is likely the result of LAPACK bug 0038, fixed in LAPACK 3.2.2 (released July 21, 2010). Falling back to 'gelss' driver.\n",
      "  warnings.warn(mesg, RuntimeWarning)\n"
     ]
    },
    {
     "name": "stdout",
     "output_type": "stream",
     "text": [
      "% absolute error    2.019677e-04\n",
      "% squared error     4.079097e-08\n",
      "absolute error      2.581148e-04\n",
      "squared error       6.662324e-08\n",
      "dtype: float64\n"
     ]
    }
   ],
   "source": [
    "class SKLRollingModel(BaseEstimator, TransformerMixin):\n",
    "    def __init__(self, skmodel, lookback=10):\n",
    "        self.model = skmodel\n",
    "        self.lookback = lookback + 1\n",
    "    def fit(self, X, y=None):\n",
    "        \n",
    "        idx = np.arange(self.lookback)[::-1] + np.arange(len(X))[:,None] - self.lookback + 1\n",
    "        out = X.get_values()[idx]\n",
    "        out[idx<0] = np.nan\n",
    "        out = out[~np.isnan(out).any(axis=1)]\n",
    "        \n",
    "        x = out[:, 1:]\n",
    "        y = out[:, 0]\n",
    "        \n",
    "        self.model.fit(x[:-1], y[:-1])\n",
    "        self.score = self.model.predict(x[-1].reshape(1, -1))\n",
    "        return self\n",
    "        \n",
    "    def transform(self, X):\n",
    "        return self.score\n",
    "    \n",
    "\n",
    "lin_scores = evaluate(power_df, SKLRollingModel(linear_model.LinearRegression()))"
   ]
  },
  {
   "cell_type": "code",
   "execution_count": null,
   "metadata": {
    "collapsed": true
   },
   "outputs": [],
   "source": []
  },
  {
   "cell_type": "code",
   "execution_count": null,
   "metadata": {
    "collapsed": true
   },
   "outputs": [],
   "source": []
  }
 ],
 "metadata": {
  "kernelspec": {
   "display_name": "Python [conda root]",
   "language": "python",
   "name": "conda-root-py"
  },
  "language_info": {
   "codemirror_mode": {
    "name": "ipython",
    "version": 2
   },
   "file_extension": ".py",
   "mimetype": "text/x-python",
   "name": "python",
   "nbconvert_exporter": "python",
   "pygments_lexer": "ipython2",
   "version": "2.7.13"
  }
 },
 "nbformat": 4,
 "nbformat_minor": 2
}
